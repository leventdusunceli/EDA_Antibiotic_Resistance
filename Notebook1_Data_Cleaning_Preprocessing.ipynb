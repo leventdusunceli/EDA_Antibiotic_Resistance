{
  "nbformat": 4,
  "nbformat_minor": 0,
  "metadata": {
    "colab": {
      "name": "Notebook1_Data_Cleaning_Preprocessing.ipynb",
      "provenance": [],
      "collapsed_sections": []
    },
    "kernelspec": {
      "name": "python3",
      "display_name": "Python 3"
    },
    "language_info": {
      "name": "python"
    }
  },
  "cells": [
    {
      "cell_type": "markdown",
      "source": [
        "#Exploratory Data Analysis on Antibiotic Resistance of *Klebsiella pneumoniae* in Europe between 2010-2020"
      ],
      "metadata": {
        "id": "OxzJsM-DHzlI"
      }
    },
    {
      "cell_type": "markdown",
      "source": [
        "Antibiotics are drugs that are used to treat and prevent bacterial infections. \n",
        "Bacteria strains can develop mechanisms in order to eliminate the effects of antibiotics.  This is called **antibiotic resistance** and is deemed one of the biggest threats to public health.\n",
        "\n",
        "*Klebsiella pneumoniae* belongs to ESKAPE group pathogens, which are bacteria strains that are resistant to a number of established treatment protocols and antibiotics.  These multi-resistant strains rank among the greatest clinical challenges. \n",
        "\n",
        "In this project, exploratory data analysis will be performed on antibiotic resistance data of *Klebsiella pneumoniae* towards 5 different treatment options collected from 28 EU member states and 2 EEA countries between 2010 and 2020.  The project is presented in 2 notebooks, first one includes the pre-processing and data cleaning steps and the second one contains the data analysis steps. \n",
        "\n",
        "Source of this data is European Centre for Disease Prevention and Control Surveillance Atlas (https://www.ecdc.europa.eu/en/antimicrobial-resistance/surveillance-and-disease-data/data-ecdc)\n",
        "\n",
        "Data used during this analysis can be found via the GitHub link [here](https://github.com/leventdusunceli/EDA_Antibiotic_Resistance/tree/main/data). \n",
        "\n",
        "This notebook was prepared as a final project for the [Data Analysis with Python: Zero to Pandas](https://jovian.ai/learn/data-analysis-with-python-zero-to-pandas) online course offered by Jovian. \n",
        "\n",
        "\n"
      ],
      "metadata": {
        "id": "Dld6TydTIcJC"
      }
    },
    {
      "cell_type": "markdown",
      "source": [
        "#Data loading, cleaning and pre-processing"
      ],
      "metadata": {
        "id": "yCs2MbockSI1"
      }
    },
    {
      "cell_type": "markdown",
      "source": [
        "###Package Loading"
      ],
      "metadata": {
        "id": "LU1M7rQtoUUn"
      }
    },
    {
      "cell_type": "markdown",
      "source": [
        "Let's start off with loading necessary packages.  We'll use numpy and pandas in data processing and analysis stages, matplotlib and seaborn in the visualization steps and os package for accessing data.   "
      ],
      "metadata": {
        "id": "nEC5u0l5lBlg"
      }
    },
    {
      "cell_type": "code",
      "source": [
        "#Loading necessary packages  \n",
        "import numpy as np \n",
        "import pandas as pd\n",
        "import os "
      ],
      "metadata": {
        "id": "NaWcgMhPIb4o"
      },
      "execution_count": null,
      "outputs": []
    },
    {
      "cell_type": "markdown",
      "source": [
        "I used Google Colab and Drive for this analysis, so I'll mount my Drive to this notebook and set working directory.  If you're running this notebook locally, you can skip this step. "
      ],
      "metadata": {
        "id": "_cgy94mPlcTd"
      }
    },
    {
      "cell_type": "code",
      "source": [
        "from google.colab import drive\n",
        "drive.mount(\"/content/gdrive\")\n",
        "os.chdir(\"/content/gdrive/MyDrive/Online_Lecture_Notes/Data_Analysis_w_Python_Jovian/Course_Project/data\")"
      ],
      "metadata": {
        "colab": {
          "base_uri": "https://localhost:8080/"
        },
        "id": "b-P4PLKpl5uY",
        "outputId": "b54cefc9-1007-4fd7-843d-7a299774a751"
      },
      "execution_count": null,
      "outputs": [
        {
          "output_type": "stream",
          "name": "stdout",
          "text": [
            "Mounted at /content/gdrive\n"
          ]
        }
      ]
    },
    {
      "cell_type": "markdown",
      "source": [
        "###Data Loading "
      ],
      "metadata": {
        "id": "gutezHtFoXRs"
      }
    },
    {
      "cell_type": "markdown",
      "source": [
        "Our raw data consists of antimicrobial resistance data of *Klebsiella pneumoniae* for 4 different antibiotics and for a combination of these treatments: \n",
        "\n",
        "1.   Carbapenems \n",
        "2.   3rd Generation Cephalosporins\n",
        "3. Fluoroquinolones \n",
        "4. Aminoglycosides\n",
        "5. Combined resistance (3rd gen cephalosporins + fluoroquinolones + aminoglycosides) \n",
        "\n",
        "We have a .csv file for each of the treatment options. We'll load each of them to individual data frames for cleaning and pre-processing. \n",
        "\n"
      ],
      "metadata": {
        "id": "BilQ0hgJkbgw"
      }
    },
    {
      "cell_type": "code",
      "source": [
        "carbapenems_df = pd.read_csv(\"carbapenems_ECDC_surveillance_data_Antimicrobial_resistance.csv\")\n",
        "thirdgen_cephalosporins_df = pd.read_csv(\"thirdgen_cep_ECDC_surveillance_data_Antimicrobial_resistance.csv\")\n",
        "fluoroquinolones_df = pd.read_csv(\"fluoroquinolones_ECDC_surveillance_data_Antimicrobial_resistance.csv\")\n",
        "aminoglycosides_df = pd.read_csv(\"aminoglycosides_ECDC_surveillance_data_Antimicrobial_resistance.csv\")\n",
        "combined_resistance_df = pd.read_csv(\"combined_resistance_ECDC_surveillance_data_Antimicrobial_resistance.csv\")"
      ],
      "metadata": {
        "id": "LUHJc3xTFFaG"
      },
      "execution_count": null,
      "outputs": []
    },
    {
      "cell_type": "code",
      "source": [
        "#Let's have a look at one of the dataframes\n",
        "carbapenems_df.head()"
      ],
      "metadata": {
        "colab": {
          "base_uri": "https://localhost:8080/",
          "height": 617
        },
        "id": "8-pnlxM0qG1F",
        "outputId": "33ca9650-9ebc-4a2c-f86e-2af8b4995957"
      },
      "execution_count": null,
      "outputs": [
        {
          "output_type": "execute_result",
          "data": {
            "text/html": [
              "\n",
              "  <div id=\"df-7f85466c-98e5-4fcb-b4eb-41479e10dcba\">\n",
              "    <div class=\"colab-df-container\">\n",
              "      <div>\n",
              "<style scoped>\n",
              "    .dataframe tbody tr th:only-of-type {\n",
              "        vertical-align: middle;\n",
              "    }\n",
              "\n",
              "    .dataframe tbody tr th {\n",
              "        vertical-align: top;\n",
              "    }\n",
              "\n",
              "    .dataframe thead th {\n",
              "        text-align: right;\n",
              "    }\n",
              "</style>\n",
              "<table border=\"1\" class=\"dataframe\">\n",
              "  <thead>\n",
              "    <tr style=\"text-align: right;\">\n",
              "      <th></th>\n",
              "      <th>HealthTopic</th>\n",
              "      <th>Population</th>\n",
              "      <th>Indicator</th>\n",
              "      <th>Unit</th>\n",
              "      <th>Time</th>\n",
              "      <th>RegionCode</th>\n",
              "      <th>RegionName</th>\n",
              "      <th>NumValue</th>\n",
              "      <th>TxtValue</th>\n",
              "    </tr>\n",
              "  </thead>\n",
              "  <tbody>\n",
              "    <tr>\n",
              "      <th>0</th>\n",
              "      <td>Antimicrobial resistance</td>\n",
              "      <td>Klebsiella pneumoniae|Carbapenems</td>\n",
              "      <td>I - 'susceptible, increased exposure' isolates</td>\n",
              "      <td>N</td>\n",
              "      <td>2005</td>\n",
              "      <td>AT</td>\n",
              "      <td>Austria</td>\n",
              "      <td>0.000000000</td>\n",
              "      <td>NaN</td>\n",
              "    </tr>\n",
              "    <tr>\n",
              "      <th>1</th>\n",
              "      <td>Antimicrobial resistance</td>\n",
              "      <td>Klebsiella pneumoniae|Carbapenems</td>\n",
              "      <td>I - 'susceptible, increased exposure' isolates</td>\n",
              "      <td>N</td>\n",
              "      <td>2005</td>\n",
              "      <td>BE</td>\n",
              "      <td>Belgium</td>\n",
              "      <td>0.000000000</td>\n",
              "      <td>NaN</td>\n",
              "    </tr>\n",
              "    <tr>\n",
              "      <th>2</th>\n",
              "      <td>Antimicrobial resistance</td>\n",
              "      <td>Klebsiella pneumoniae|Carbapenems</td>\n",
              "      <td>I - 'susceptible, increased exposure' isolates</td>\n",
              "      <td>N</td>\n",
              "      <td>2005</td>\n",
              "      <td>BG</td>\n",
              "      <td>Bulgaria</td>\n",
              "      <td>0.000000000</td>\n",
              "      <td>NaN</td>\n",
              "    </tr>\n",
              "    <tr>\n",
              "      <th>3</th>\n",
              "      <td>Antimicrobial resistance</td>\n",
              "      <td>Klebsiella pneumoniae|Carbapenems</td>\n",
              "      <td>I - 'susceptible, increased exposure' isolates</td>\n",
              "      <td>N</td>\n",
              "      <td>2005</td>\n",
              "      <td>CY</td>\n",
              "      <td>Cyprus</td>\n",
              "      <td>0.000000000</td>\n",
              "      <td>NaN</td>\n",
              "    </tr>\n",
              "    <tr>\n",
              "      <th>4</th>\n",
              "      <td>Antimicrobial resistance</td>\n",
              "      <td>Klebsiella pneumoniae|Carbapenems</td>\n",
              "      <td>I - 'susceptible, increased exposure' isolates</td>\n",
              "      <td>N</td>\n",
              "      <td>2005</td>\n",
              "      <td>CZ</td>\n",
              "      <td>Czechia</td>\n",
              "      <td>0.000000000</td>\n",
              "      <td>NaN</td>\n",
              "    </tr>\n",
              "  </tbody>\n",
              "</table>\n",
              "</div>\n",
              "      <button class=\"colab-df-convert\" onclick=\"convertToInteractive('df-7f85466c-98e5-4fcb-b4eb-41479e10dcba')\"\n",
              "              title=\"Convert this dataframe to an interactive table.\"\n",
              "              style=\"display:none;\">\n",
              "        \n",
              "  <svg xmlns=\"http://www.w3.org/2000/svg\" height=\"24px\"viewBox=\"0 0 24 24\"\n",
              "       width=\"24px\">\n",
              "    <path d=\"M0 0h24v24H0V0z\" fill=\"none\"/>\n",
              "    <path d=\"M18.56 5.44l.94 2.06.94-2.06 2.06-.94-2.06-.94-.94-2.06-.94 2.06-2.06.94zm-11 1L8.5 8.5l.94-2.06 2.06-.94-2.06-.94L8.5 2.5l-.94 2.06-2.06.94zm10 10l.94 2.06.94-2.06 2.06-.94-2.06-.94-.94-2.06-.94 2.06-2.06.94z\"/><path d=\"M17.41 7.96l-1.37-1.37c-.4-.4-.92-.59-1.43-.59-.52 0-1.04.2-1.43.59L10.3 9.45l-7.72 7.72c-.78.78-.78 2.05 0 2.83L4 21.41c.39.39.9.59 1.41.59.51 0 1.02-.2 1.41-.59l7.78-7.78 2.81-2.81c.8-.78.8-2.07 0-2.86zM5.41 20L4 18.59l7.72-7.72 1.47 1.35L5.41 20z\"/>\n",
              "  </svg>\n",
              "      </button>\n",
              "      \n",
              "  <style>\n",
              "    .colab-df-container {\n",
              "      display:flex;\n",
              "      flex-wrap:wrap;\n",
              "      gap: 12px;\n",
              "    }\n",
              "\n",
              "    .colab-df-convert {\n",
              "      background-color: #E8F0FE;\n",
              "      border: none;\n",
              "      border-radius: 50%;\n",
              "      cursor: pointer;\n",
              "      display: none;\n",
              "      fill: #1967D2;\n",
              "      height: 32px;\n",
              "      padding: 0 0 0 0;\n",
              "      width: 32px;\n",
              "    }\n",
              "\n",
              "    .colab-df-convert:hover {\n",
              "      background-color: #E2EBFA;\n",
              "      box-shadow: 0px 1px 2px rgba(60, 64, 67, 0.3), 0px 1px 3px 1px rgba(60, 64, 67, 0.15);\n",
              "      fill: #174EA6;\n",
              "    }\n",
              "\n",
              "    [theme=dark] .colab-df-convert {\n",
              "      background-color: #3B4455;\n",
              "      fill: #D2E3FC;\n",
              "    }\n",
              "\n",
              "    [theme=dark] .colab-df-convert:hover {\n",
              "      background-color: #434B5C;\n",
              "      box-shadow: 0px 1px 3px 1px rgba(0, 0, 0, 0.15);\n",
              "      filter: drop-shadow(0px 1px 2px rgba(0, 0, 0, 0.3));\n",
              "      fill: #FFFFFF;\n",
              "    }\n",
              "  </style>\n",
              "\n",
              "      <script>\n",
              "        const buttonEl =\n",
              "          document.querySelector('#df-7f85466c-98e5-4fcb-b4eb-41479e10dcba button.colab-df-convert');\n",
              "        buttonEl.style.display =\n",
              "          google.colab.kernel.accessAllowed ? 'block' : 'none';\n",
              "\n",
              "        async function convertToInteractive(key) {\n",
              "          const element = document.querySelector('#df-7f85466c-98e5-4fcb-b4eb-41479e10dcba');\n",
              "          const dataTable =\n",
              "            await google.colab.kernel.invokeFunction('convertToInteractive',\n",
              "                                                     [key], {});\n",
              "          if (!dataTable) return;\n",
              "\n",
              "          const docLinkHtml = 'Like what you see? Visit the ' +\n",
              "            '<a target=\"_blank\" href=https://colab.research.google.com/notebooks/data_table.ipynb>data table notebook</a>'\n",
              "            + ' to learn more about interactive tables.';\n",
              "          element.innerHTML = '';\n",
              "          dataTable['output_type'] = 'display_data';\n",
              "          await google.colab.output.renderOutput(dataTable, element);\n",
              "          const docLink = document.createElement('div');\n",
              "          docLink.innerHTML = docLinkHtml;\n",
              "          element.appendChild(docLink);\n",
              "        }\n",
              "      </script>\n",
              "    </div>\n",
              "  </div>\n",
              "  "
            ],
            "text/plain": [
              "                HealthTopic  ... TxtValue\n",
              "0  Antimicrobial resistance  ...      NaN\n",
              "1  Antimicrobial resistance  ...      NaN\n",
              "2  Antimicrobial resistance  ...      NaN\n",
              "3  Antimicrobial resistance  ...      NaN\n",
              "4  Antimicrobial resistance  ...      NaN\n",
              "\n",
              "[5 rows x 9 columns]"
            ]
          },
          "metadata": {},
          "execution_count": 32
        }
      ]
    },
    {
      "cell_type": "markdown",
      "source": [
        "\n",
        "To understand the data better let's check what type of data is presented in Indicator column.\n",
        "\n"
      ],
      "metadata": {
        "id": "tNM_arHmrWBM"
      }
    },
    {
      "cell_type": "code",
      "source": [
        "carbapenems_df.Indicator.unique()\n",
        "#.unique() will return all the unique values from a column"
      ],
      "metadata": {
        "colab": {
          "base_uri": "https://localhost:8080/"
        },
        "id": "77DbjRcesNuT",
        "outputId": "642c33bf-df46-4afc-948f-5f5d39a83f02"
      },
      "execution_count": null,
      "outputs": [
        {
          "output_type": "execute_result",
          "data": {
            "text/plain": [
              "array([\"I - 'susceptible, increased exposure' isolates \",\n",
              "       'R - resistant isolates', 'R - resistant isolates, percentage  ',\n",
              "       'S - susceptible isolates', 'Total tested isolates'], dtype=object)"
            ]
          },
          "metadata": {},
          "execution_count": 33
        }
      ]
    },
    {
      "cell_type": "markdown",
      "source": [
        "According to European Committee on Antimicrobial Susceptibility Testing \n",
        "[(EUCAST)](https://www.eucast.org/newsiandr/)\n",
        "\n",
        "- **S - Susceptible, standard dosing regimen:**  when there is a high likelihood of therapeutic success using a standard dosing regimen of the agent.\n",
        "\n",
        "- **I - Susceptible, increased exposure:** when there is a high likelihood of therapeutic success because exposure to the agent is increased by adjusting the dosing regimen or by its concentration at the site of infection.\n",
        "\n",
        "- **R - Resistant:** when there is a high likelihood of therapeutic failure even when there is increased exposure. "
      ],
      "metadata": {
        "id": "rYJdW3fKuxnJ"
      }
    },
    {
      "cell_type": "markdown",
      "source": [
        "Also it seems that HealthTopic and TxtValue columns don't contain any differentiating data.  If so, these columns can be removed in the data cleaning step"
      ],
      "metadata": {
        "id": "mBYK1m12s36n"
      }
    },
    {
      "cell_type": "code",
      "source": [
        "carbapenems_df.HealthTopic.unique() , carbapenems_df.TxtValue.unique()"
      ],
      "metadata": {
        "colab": {
          "base_uri": "https://localhost:8080/"
        },
        "id": "mwRHdfkatKoY",
        "outputId": "92eae0a6-60b5-4e89-9b4c-8fdb3fb66ad0"
      },
      "execution_count": null,
      "outputs": [
        {
          "output_type": "execute_result",
          "data": {
            "text/plain": [
              "(array(['Antimicrobial resistance'], dtype=object), array([nan]))"
            ]
          },
          "metadata": {},
          "execution_count": 34
        }
      ]
    },
    {
      "cell_type": "markdown",
      "source": [
        "###Data Cleaning & Filtering\n",
        "\n",
        "For our purposes, we'll only use the data in *Indicator*,*Population*, *Time*, *RegionName* and *NumValue* columns. Let's check if all datasets have those columns and remove other columns"
      ],
      "metadata": {
        "id": "7OIZBeLGoP_0"
      }
    },
    {
      "cell_type": "code",
      "source": [
        "thirdgen_cephalosporins_df.columns,carbapenems_df.columns,fluoroquinolones_df.columns,aminoglycosides_df.columns,combined_resistance_df.columns"
      ],
      "metadata": {
        "colab": {
          "base_uri": "https://localhost:8080/"
        },
        "id": "mH-JodCOrTWl",
        "outputId": "7e64cb37-698a-4655-83e8-164f0ce862fe"
      },
      "execution_count": null,
      "outputs": [
        {
          "output_type": "execute_result",
          "data": {
            "text/plain": [
              "(Index(['HealthTopic', 'Population', 'Indicator', 'Unit', 'Time', 'RegionCode',\n",
              "        'RegionName', 'NumValue', 'TxtValue'],\n",
              "       dtype='object'),\n",
              " Index(['HealthTopic', 'Population', 'Indicator', 'Unit', 'Time', 'RegionCode',\n",
              "        'RegionName', 'NumValue', 'TxtValue'],\n",
              "       dtype='object'),\n",
              " Index(['HealthTopic', 'Population', 'Indicator', 'Unit', 'Time', 'RegionCode',\n",
              "        'RegionName', 'NumValue', 'TxtValue'],\n",
              "       dtype='object'),\n",
              " Index(['HealthTopic', 'Population', 'Indicator', 'Unit', 'Time', 'RegionCode',\n",
              "        'RegionName', 'NumValue', 'TxtValue'],\n",
              "       dtype='object'),\n",
              " Index(['HealthTopic', 'Population', 'Indicator', 'Unit', 'Time', 'RegionCode',\n",
              "        'RegionName', 'NumValue', 'TxtValue'],\n",
              "       dtype='object'))"
            ]
          },
          "metadata": {},
          "execution_count": 35
        }
      ]
    },
    {
      "cell_type": "code",
      "source": [
        "carbapenems_df = carbapenems_df[[\"Population\",\"RegionName\",\"Time\",\"Indicator\",\"NumValue\"]]\n",
        "thirdgen_cephalosporins_df = thirdgen_cephalosporins_df[[\"Population\",\"RegionName\",\"Time\",\"Indicator\",\"NumValue\"]]\n",
        "fluoroquinolones_df= fluoroquinolones_df[[\"Population\",\"RegionName\",\"Time\",\"Indicator\",\"NumValue\"]]\n",
        "aminoglycosides_df = aminoglycosides_df[[\"Population\",\"RegionName\",\"Time\",\"Indicator\",\"NumValue\"]]\n",
        "combined_resistance_df = combined_resistance_df[[\"Population\",\"RegionName\",\"Time\",\"Indicator\",\"NumValue\"]]"
      ],
      "metadata": {
        "id": "eljT1ts4M5Q5"
      },
      "execution_count": null,
      "outputs": []
    },
    {
      "cell_type": "code",
      "source": [
        "carbapenems_df.head()"
      ],
      "metadata": {
        "id": "y4UcdKUZqT6S",
        "colab": {
          "base_uri": "https://localhost:8080/",
          "height": 206
        },
        "outputId": "f7a81816-ffaa-470e-eb2b-4754dd405253"
      },
      "execution_count": null,
      "outputs": [
        {
          "output_type": "execute_result",
          "data": {
            "text/html": [
              "\n",
              "  <div id=\"df-22801b7d-450c-42f7-97a9-341568223bb0\">\n",
              "    <div class=\"colab-df-container\">\n",
              "      <div>\n",
              "<style scoped>\n",
              "    .dataframe tbody tr th:only-of-type {\n",
              "        vertical-align: middle;\n",
              "    }\n",
              "\n",
              "    .dataframe tbody tr th {\n",
              "        vertical-align: top;\n",
              "    }\n",
              "\n",
              "    .dataframe thead th {\n",
              "        text-align: right;\n",
              "    }\n",
              "</style>\n",
              "<table border=\"1\" class=\"dataframe\">\n",
              "  <thead>\n",
              "    <tr style=\"text-align: right;\">\n",
              "      <th></th>\n",
              "      <th>Population</th>\n",
              "      <th>RegionName</th>\n",
              "      <th>Time</th>\n",
              "      <th>Indicator</th>\n",
              "      <th>NumValue</th>\n",
              "    </tr>\n",
              "  </thead>\n",
              "  <tbody>\n",
              "    <tr>\n",
              "      <th>0</th>\n",
              "      <td>Klebsiella pneumoniae|Carbapenems</td>\n",
              "      <td>Austria</td>\n",
              "      <td>2005</td>\n",
              "      <td>I - 'susceptible, increased exposure' isolates</td>\n",
              "      <td>0.000000000</td>\n",
              "    </tr>\n",
              "    <tr>\n",
              "      <th>1</th>\n",
              "      <td>Klebsiella pneumoniae|Carbapenems</td>\n",
              "      <td>Belgium</td>\n",
              "      <td>2005</td>\n",
              "      <td>I - 'susceptible, increased exposure' isolates</td>\n",
              "      <td>0.000000000</td>\n",
              "    </tr>\n",
              "    <tr>\n",
              "      <th>2</th>\n",
              "      <td>Klebsiella pneumoniae|Carbapenems</td>\n",
              "      <td>Bulgaria</td>\n",
              "      <td>2005</td>\n",
              "      <td>I - 'susceptible, increased exposure' isolates</td>\n",
              "      <td>0.000000000</td>\n",
              "    </tr>\n",
              "    <tr>\n",
              "      <th>3</th>\n",
              "      <td>Klebsiella pneumoniae|Carbapenems</td>\n",
              "      <td>Cyprus</td>\n",
              "      <td>2005</td>\n",
              "      <td>I - 'susceptible, increased exposure' isolates</td>\n",
              "      <td>0.000000000</td>\n",
              "    </tr>\n",
              "    <tr>\n",
              "      <th>4</th>\n",
              "      <td>Klebsiella pneumoniae|Carbapenems</td>\n",
              "      <td>Czechia</td>\n",
              "      <td>2005</td>\n",
              "      <td>I - 'susceptible, increased exposure' isolates</td>\n",
              "      <td>0.000000000</td>\n",
              "    </tr>\n",
              "  </tbody>\n",
              "</table>\n",
              "</div>\n",
              "      <button class=\"colab-df-convert\" onclick=\"convertToInteractive('df-22801b7d-450c-42f7-97a9-341568223bb0')\"\n",
              "              title=\"Convert this dataframe to an interactive table.\"\n",
              "              style=\"display:none;\">\n",
              "        \n",
              "  <svg xmlns=\"http://www.w3.org/2000/svg\" height=\"24px\"viewBox=\"0 0 24 24\"\n",
              "       width=\"24px\">\n",
              "    <path d=\"M0 0h24v24H0V0z\" fill=\"none\"/>\n",
              "    <path d=\"M18.56 5.44l.94 2.06.94-2.06 2.06-.94-2.06-.94-.94-2.06-.94 2.06-2.06.94zm-11 1L8.5 8.5l.94-2.06 2.06-.94-2.06-.94L8.5 2.5l-.94 2.06-2.06.94zm10 10l.94 2.06.94-2.06 2.06-.94-2.06-.94-.94-2.06-.94 2.06-2.06.94z\"/><path d=\"M17.41 7.96l-1.37-1.37c-.4-.4-.92-.59-1.43-.59-.52 0-1.04.2-1.43.59L10.3 9.45l-7.72 7.72c-.78.78-.78 2.05 0 2.83L4 21.41c.39.39.9.59 1.41.59.51 0 1.02-.2 1.41-.59l7.78-7.78 2.81-2.81c.8-.78.8-2.07 0-2.86zM5.41 20L4 18.59l7.72-7.72 1.47 1.35L5.41 20z\"/>\n",
              "  </svg>\n",
              "      </button>\n",
              "      \n",
              "  <style>\n",
              "    .colab-df-container {\n",
              "      display:flex;\n",
              "      flex-wrap:wrap;\n",
              "      gap: 12px;\n",
              "    }\n",
              "\n",
              "    .colab-df-convert {\n",
              "      background-color: #E8F0FE;\n",
              "      border: none;\n",
              "      border-radius: 50%;\n",
              "      cursor: pointer;\n",
              "      display: none;\n",
              "      fill: #1967D2;\n",
              "      height: 32px;\n",
              "      padding: 0 0 0 0;\n",
              "      width: 32px;\n",
              "    }\n",
              "\n",
              "    .colab-df-convert:hover {\n",
              "      background-color: #E2EBFA;\n",
              "      box-shadow: 0px 1px 2px rgba(60, 64, 67, 0.3), 0px 1px 3px 1px rgba(60, 64, 67, 0.15);\n",
              "      fill: #174EA6;\n",
              "    }\n",
              "\n",
              "    [theme=dark] .colab-df-convert {\n",
              "      background-color: #3B4455;\n",
              "      fill: #D2E3FC;\n",
              "    }\n",
              "\n",
              "    [theme=dark] .colab-df-convert:hover {\n",
              "      background-color: #434B5C;\n",
              "      box-shadow: 0px 1px 3px 1px rgba(0, 0, 0, 0.15);\n",
              "      filter: drop-shadow(0px 1px 2px rgba(0, 0, 0, 0.3));\n",
              "      fill: #FFFFFF;\n",
              "    }\n",
              "  </style>\n",
              "\n",
              "      <script>\n",
              "        const buttonEl =\n",
              "          document.querySelector('#df-22801b7d-450c-42f7-97a9-341568223bb0 button.colab-df-convert');\n",
              "        buttonEl.style.display =\n",
              "          google.colab.kernel.accessAllowed ? 'block' : 'none';\n",
              "\n",
              "        async function convertToInteractive(key) {\n",
              "          const element = document.querySelector('#df-22801b7d-450c-42f7-97a9-341568223bb0');\n",
              "          const dataTable =\n",
              "            await google.colab.kernel.invokeFunction('convertToInteractive',\n",
              "                                                     [key], {});\n",
              "          if (!dataTable) return;\n",
              "\n",
              "          const docLinkHtml = 'Like what you see? Visit the ' +\n",
              "            '<a target=\"_blank\" href=https://colab.research.google.com/notebooks/data_table.ipynb>data table notebook</a>'\n",
              "            + ' to learn more about interactive tables.';\n",
              "          element.innerHTML = '';\n",
              "          dataTable['output_type'] = 'display_data';\n",
              "          await google.colab.output.renderOutput(dataTable, element);\n",
              "          const docLink = document.createElement('div');\n",
              "          docLink.innerHTML = docLinkHtml;\n",
              "          element.appendChild(docLink);\n",
              "        }\n",
              "      </script>\n",
              "    </div>\n",
              "  </div>\n",
              "  "
            ],
            "text/plain": [
              "                          Population  ...     NumValue\n",
              "0  Klebsiella pneumoniae|Carbapenems  ...  0.000000000\n",
              "1  Klebsiella pneumoniae|Carbapenems  ...  0.000000000\n",
              "2  Klebsiella pneumoniae|Carbapenems  ...  0.000000000\n",
              "3  Klebsiella pneumoniae|Carbapenems  ...  0.000000000\n",
              "4  Klebsiella pneumoniae|Carbapenems  ...  0.000000000\n",
              "\n",
              "[5 rows x 5 columns]"
            ]
          },
          "metadata": {},
          "execution_count": 37
        }
      ]
    },
    {
      "cell_type": "markdown",
      "source": [
        "Now we'll combine all datasets into one main set for further analysis. "
      ],
      "metadata": {
        "id": "G3cdOgDNKZij"
      }
    },
    {
      "cell_type": "code",
      "source": [
        "combined_df = pd.concat([thirdgen_cephalosporins_df,carbapenems_df,fluoroquinolones_df,aminoglycosides_df,combined_resistance_df],axis=0)\n",
        "\n",
        "combined_df.sample(10)"
      ],
      "metadata": {
        "colab": {
          "base_uri": "https://localhost:8080/",
          "height": 511
        },
        "id": "CNzoYFzvKY6x",
        "outputId": "28a584da-19bf-453d-9f2c-a1421863a3f3"
      },
      "execution_count": null,
      "outputs": [
        {
          "output_type": "execute_result",
          "data": {
            "text/html": [
              "\n",
              "  <div id=\"df-fd20e039-cb53-437b-8dbb-7bee2002e82e\">\n",
              "    <div class=\"colab-df-container\">\n",
              "      <div>\n",
              "<style scoped>\n",
              "    .dataframe tbody tr th:only-of-type {\n",
              "        vertical-align: middle;\n",
              "    }\n",
              "\n",
              "    .dataframe tbody tr th {\n",
              "        vertical-align: top;\n",
              "    }\n",
              "\n",
              "    .dataframe thead th {\n",
              "        text-align: right;\n",
              "    }\n",
              "</style>\n",
              "<table border=\"1\" class=\"dataframe\">\n",
              "  <thead>\n",
              "    <tr style=\"text-align: right;\">\n",
              "      <th></th>\n",
              "      <th>Population</th>\n",
              "      <th>RegionName</th>\n",
              "      <th>Time</th>\n",
              "      <th>Indicator</th>\n",
              "      <th>NumValue</th>\n",
              "    </tr>\n",
              "  </thead>\n",
              "  <tbody>\n",
              "    <tr>\n",
              "      <th>2305</th>\n",
              "      <td>Klebsiella pneumoniae|Carbapenems</td>\n",
              "      <td>Latvia</td>\n",
              "      <td>2018</td>\n",
              "      <td>Total tested isolates</td>\n",
              "      <td>204.000000000</td>\n",
              "    </tr>\n",
              "    <tr>\n",
              "      <th>1440</th>\n",
              "      <td>Klebsiella pneumoniae|Aminoglycosides</td>\n",
              "      <td>Iceland</td>\n",
              "      <td>2005</td>\n",
              "      <td>S - susceptible isolates</td>\n",
              "      <td>22.000000000</td>\n",
              "    </tr>\n",
              "    <tr>\n",
              "      <th>353</th>\n",
              "      <td>Klebsiella pneumoniae|Carbapenems</td>\n",
              "      <td>Slovenia</td>\n",
              "      <td>2016</td>\n",
              "      <td>I - 'susceptible, increased exposure' isolates</td>\n",
              "      <td>1.000000000</td>\n",
              "    </tr>\n",
              "    <tr>\n",
              "      <th>240</th>\n",
              "      <td>Klebsiella pneumoniae|Aminoglycosides</td>\n",
              "      <td>Czechia</td>\n",
              "      <td>2013</td>\n",
              "      <td>I - 'susceptible, increased exposure' isolates</td>\n",
              "      <td>16.000000000</td>\n",
              "    </tr>\n",
              "    <tr>\n",
              "      <th>324</th>\n",
              "      <td>Klebsiella pneumoniae|Combined resistance (thi...</td>\n",
              "      <td>Slovakia</td>\n",
              "      <td>2015</td>\n",
              "      <td>R - resistant isolates</td>\n",
              "      <td>279.000000000</td>\n",
              "    </tr>\n",
              "    <tr>\n",
              "      <th>2346</th>\n",
              "      <td>Klebsiella pneumoniae|Fluoroquinolones</td>\n",
              "      <td>Austria</td>\n",
              "      <td>2020</td>\n",
              "      <td>Total tested isolates</td>\n",
              "      <td>1129.000000000</td>\n",
              "    </tr>\n",
              "    <tr>\n",
              "      <th>1065</th>\n",
              "      <td>Klebsiella pneumoniae|Fluoroquinolones</td>\n",
              "      <td>Sweden</td>\n",
              "      <td>2008</td>\n",
              "      <td>R - resistant isolates, percentage</td>\n",
              "      <td>7.024793380</td>\n",
              "    </tr>\n",
              "    <tr>\n",
              "      <th>1251</th>\n",
              "      <td>Klebsiella pneumoniae|Third-generation cephalo...</td>\n",
              "      <td>Germany</td>\n",
              "      <td>2015</td>\n",
              "      <td>R - resistant isolates, percentage</td>\n",
              "      <td>10.246679310</td>\n",
              "    </tr>\n",
              "    <tr>\n",
              "      <th>293</th>\n",
              "      <td>Klebsiella pneumoniae|Third-generation cephalo...</td>\n",
              "      <td>Slovenia</td>\n",
              "      <td>2014</td>\n",
              "      <td>I - 'susceptible, increased exposure' isolates</td>\n",
              "      <td>2.000000000</td>\n",
              "    </tr>\n",
              "    <tr>\n",
              "      <th>432</th>\n",
              "      <td>Klebsiella pneumoniae|Combined resistance (thi...</td>\n",
              "      <td>Italy</td>\n",
              "      <td>2019</td>\n",
              "      <td>R - resistant isolates</td>\n",
              "      <td>2287.000000000</td>\n",
              "    </tr>\n",
              "  </tbody>\n",
              "</table>\n",
              "</div>\n",
              "      <button class=\"colab-df-convert\" onclick=\"convertToInteractive('df-fd20e039-cb53-437b-8dbb-7bee2002e82e')\"\n",
              "              title=\"Convert this dataframe to an interactive table.\"\n",
              "              style=\"display:none;\">\n",
              "        \n",
              "  <svg xmlns=\"http://www.w3.org/2000/svg\" height=\"24px\"viewBox=\"0 0 24 24\"\n",
              "       width=\"24px\">\n",
              "    <path d=\"M0 0h24v24H0V0z\" fill=\"none\"/>\n",
              "    <path d=\"M18.56 5.44l.94 2.06.94-2.06 2.06-.94-2.06-.94-.94-2.06-.94 2.06-2.06.94zm-11 1L8.5 8.5l.94-2.06 2.06-.94-2.06-.94L8.5 2.5l-.94 2.06-2.06.94zm10 10l.94 2.06.94-2.06 2.06-.94-2.06-.94-.94-2.06-.94 2.06-2.06.94z\"/><path d=\"M17.41 7.96l-1.37-1.37c-.4-.4-.92-.59-1.43-.59-.52 0-1.04.2-1.43.59L10.3 9.45l-7.72 7.72c-.78.78-.78 2.05 0 2.83L4 21.41c.39.39.9.59 1.41.59.51 0 1.02-.2 1.41-.59l7.78-7.78 2.81-2.81c.8-.78.8-2.07 0-2.86zM5.41 20L4 18.59l7.72-7.72 1.47 1.35L5.41 20z\"/>\n",
              "  </svg>\n",
              "      </button>\n",
              "      \n",
              "  <style>\n",
              "    .colab-df-container {\n",
              "      display:flex;\n",
              "      flex-wrap:wrap;\n",
              "      gap: 12px;\n",
              "    }\n",
              "\n",
              "    .colab-df-convert {\n",
              "      background-color: #E8F0FE;\n",
              "      border: none;\n",
              "      border-radius: 50%;\n",
              "      cursor: pointer;\n",
              "      display: none;\n",
              "      fill: #1967D2;\n",
              "      height: 32px;\n",
              "      padding: 0 0 0 0;\n",
              "      width: 32px;\n",
              "    }\n",
              "\n",
              "    .colab-df-convert:hover {\n",
              "      background-color: #E2EBFA;\n",
              "      box-shadow: 0px 1px 2px rgba(60, 64, 67, 0.3), 0px 1px 3px 1px rgba(60, 64, 67, 0.15);\n",
              "      fill: #174EA6;\n",
              "    }\n",
              "\n",
              "    [theme=dark] .colab-df-convert {\n",
              "      background-color: #3B4455;\n",
              "      fill: #D2E3FC;\n",
              "    }\n",
              "\n",
              "    [theme=dark] .colab-df-convert:hover {\n",
              "      background-color: #434B5C;\n",
              "      box-shadow: 0px 1px 3px 1px rgba(0, 0, 0, 0.15);\n",
              "      filter: drop-shadow(0px 1px 2px rgba(0, 0, 0, 0.3));\n",
              "      fill: #FFFFFF;\n",
              "    }\n",
              "  </style>\n",
              "\n",
              "      <script>\n",
              "        const buttonEl =\n",
              "          document.querySelector('#df-fd20e039-cb53-437b-8dbb-7bee2002e82e button.colab-df-convert');\n",
              "        buttonEl.style.display =\n",
              "          google.colab.kernel.accessAllowed ? 'block' : 'none';\n",
              "\n",
              "        async function convertToInteractive(key) {\n",
              "          const element = document.querySelector('#df-fd20e039-cb53-437b-8dbb-7bee2002e82e');\n",
              "          const dataTable =\n",
              "            await google.colab.kernel.invokeFunction('convertToInteractive',\n",
              "                                                     [key], {});\n",
              "          if (!dataTable) return;\n",
              "\n",
              "          const docLinkHtml = 'Like what you see? Visit the ' +\n",
              "            '<a target=\"_blank\" href=https://colab.research.google.com/notebooks/data_table.ipynb>data table notebook</a>'\n",
              "            + ' to learn more about interactive tables.';\n",
              "          element.innerHTML = '';\n",
              "          dataTable['output_type'] = 'display_data';\n",
              "          await google.colab.output.renderOutput(dataTable, element);\n",
              "          const docLink = document.createElement('div');\n",
              "          docLink.innerHTML = docLinkHtml;\n",
              "          element.appendChild(docLink);\n",
              "        }\n",
              "      </script>\n",
              "    </div>\n",
              "  </div>\n",
              "  "
            ],
            "text/plain": [
              "                                             Population  ...        NumValue\n",
              "2305                  Klebsiella pneumoniae|Carbapenems  ...   204.000000000\n",
              "1440              Klebsiella pneumoniae|Aminoglycosides  ...    22.000000000\n",
              "353                   Klebsiella pneumoniae|Carbapenems  ...     1.000000000\n",
              "240               Klebsiella pneumoniae|Aminoglycosides  ...    16.000000000\n",
              "324   Klebsiella pneumoniae|Combined resistance (thi...  ...   279.000000000\n",
              "2346             Klebsiella pneumoniae|Fluoroquinolones  ...  1129.000000000\n",
              "1065             Klebsiella pneumoniae|Fluoroquinolones  ...     7.024793380\n",
              "1251  Klebsiella pneumoniae|Third-generation cephalo...  ...    10.246679310\n",
              "293   Klebsiella pneumoniae|Third-generation cephalo...  ...     2.000000000\n",
              "432   Klebsiella pneumoniae|Combined resistance (thi...  ...  2287.000000000\n",
              "\n",
              "[10 rows x 5 columns]"
            ]
          },
          "metadata": {},
          "execution_count": 38
        }
      ]
    },
    {
      "cell_type": "markdown",
      "source": [
        "We can see from the table called above, our datasets includes years other than 2010-2020.  Let's check what years are in the dataset and remove all years before 2010. "
      ],
      "metadata": {
        "id": "i1UBhQa-GKJ3"
      }
    },
    {
      "cell_type": "code",
      "source": [
        "combined_df.Time.unique()"
      ],
      "metadata": {
        "id": "OuDTa-Smqx8t",
        "colab": {
          "base_uri": "https://localhost:8080/"
        },
        "outputId": "bc4ae86a-9041-4654-a041-153c287a5194"
      },
      "execution_count": null,
      "outputs": [
        {
          "output_type": "execute_result",
          "data": {
            "text/plain": [
              "array([2005, 2006, 2007, 2008, 2009, 2010, 2011, 2012, 2013, 2014, 2015,\n",
              "       2016, 2017, 2018, 2019, 2020])"
            ]
          },
          "metadata": {},
          "execution_count": 39
        }
      ]
    },
    {
      "cell_type": "code",
      "source": [
        "timefiltered_df = combined_df[combined_df[\"Time\"]>=2010]\n",
        "timefiltered_df.Time.unique()"
      ],
      "metadata": {
        "id": "DjWyo71lrNau",
        "colab": {
          "base_uri": "https://localhost:8080/"
        },
        "outputId": "7093dabd-b742-49cd-bc0d-9de7c87573ce"
      },
      "execution_count": null,
      "outputs": [
        {
          "output_type": "execute_result",
          "data": {
            "text/plain": [
              "array([2010, 2011, 2012, 2013, 2014, 2015, 2016, 2017, 2018, 2019, 2020])"
            ]
          },
          "metadata": {},
          "execution_count": 40
        }
      ]
    },
    {
      "cell_type": "markdown",
      "source": [
        "Let's see if there's any missing data"
      ],
      "metadata": {
        "id": "_tjIgsAZI88e"
      }
    },
    {
      "cell_type": "code",
      "source": [
        "#check if any missing countries \n",
        "\n",
        "countries = []\n",
        "for i in timefiltered_df.RegionName.unique():\n",
        "  countries.append(str(i))\n",
        "print( \"number of countries\" ,len(countries))\n",
        "\n",
        "for i in countries: \n",
        "  print(\"number of rows containing data on\",i, \":\", len(timefiltered_df.NumValue[timefiltered_df.RegionName==i].values))\n",
        "\n"
      ],
      "metadata": {
        "colab": {
          "base_uri": "https://localhost:8080/"
        },
        "id": "WUNopE5aI0z9",
        "outputId": "6587e8e1-e863-45c6-971a-326b1c619c22"
      },
      "execution_count": null,
      "outputs": [
        {
          "output_type": "stream",
          "name": "stdout",
          "text": [
            "number of countries 30\n",
            "number of rows containing data on Austria : 253\n",
            "number of rows containing data on Belgium : 253\n",
            "number of rows containing data on Bulgaria : 253\n",
            "number of rows containing data on Cyprus : 253\n",
            "number of rows containing data on Czechia : 253\n",
            "number of rows containing data on Germany : 253\n",
            "number of rows containing data on Denmark : 253\n",
            "number of rows containing data on Estonia : 253\n",
            "number of rows containing data on Greece : 253\n",
            "number of rows containing data on Spain : 253\n",
            "number of rows containing data on Finland : 253\n",
            "number of rows containing data on France : 253\n",
            "number of rows containing data on Croatia : 253\n",
            "number of rows containing data on Hungary : 253\n",
            "number of rows containing data on Ireland : 253\n",
            "number of rows containing data on Iceland : 253\n",
            "number of rows containing data on Italy : 253\n",
            "number of rows containing data on Lithuania : 253\n",
            "number of rows containing data on Luxembourg : 253\n",
            "number of rows containing data on Latvia : 253\n",
            "number of rows containing data on Malta : 253\n",
            "number of rows containing data on Netherlands : 253\n",
            "number of rows containing data on Norway : 253\n",
            "number of rows containing data on Poland : 253\n",
            "number of rows containing data on Portugal : 253\n",
            "number of rows containing data on Romania : 253\n",
            "number of rows containing data on Sweden : 253\n",
            "number of rows containing data on Slovenia : 253\n",
            "number of rows containing data on United Kingdom : 230\n",
            "number of rows containing data on Slovakia : 230\n"
          ]
        }
      ]
    },
    {
      "cell_type": "code",
      "source": [
        "#UK and Slovakia has less number of rows, indicating there's either missing years or missing indicator values \n",
        "\n",
        "print(\"years in UK data\",timefiltered_df.Time.loc[(timefiltered_df.RegionName == \"United Kingdom\")].unique(),\"\\n\"\n",
        "      \"years in Slovakia data\",timefiltered_df.Time.loc[(timefiltered_df.RegionName == \"Slovakia\")].unique())"
      ],
      "metadata": {
        "colab": {
          "base_uri": "https://localhost:8080/"
        },
        "id": "LWsLIaVOMRMf",
        "outputId": "8a86d8cc-d140-4f0b-c8da-7475ad952bed"
      },
      "execution_count": null,
      "outputs": [
        {
          "output_type": "stream",
          "name": "stdout",
          "text": [
            "years in UK data [2010 2011 2012 2013 2014 2015 2016 2017 2018 2019] \n",
            "years in Slovakia data [2011 2012 2013 2014 2015 2016 2017 2018 2019 2020]\n"
          ]
        }
      ]
    },
    {
      "cell_type": "markdown",
      "source": [
        "It seems that year 2020 for UK and year 2010 for Slovakia are missing. We'll handle this in the next step."
      ],
      "metadata": {
        "id": "WhiIlUTiWvzI"
      }
    },
    {
      "cell_type": "markdown",
      "source": [
        "####Handling missing data\n",
        "\n",
        "2020 data for UK and 2010 data for Slovakia are missing.  Different approaches can be taken for filling in these data. For UK we'll replace the missing data with the data from the previous year and for Slovakia, we'll replace the missing data with 2011 data. "
      ],
      "metadata": {
        "id": "vhUdADbdAPuM"
      }
    },
    {
      "cell_type": "code",
      "source": [
        "#while trying to replace missing 2010 data with 2009 for Slovakia, I realized data collection from Slovakia started after 2010, so I used 2011 data\n",
        "\n",
        "#we first pull 2019 UK and 2011 Slovakia data into separate dataframes\n",
        "uk2019_data = combined_df.loc[(combined_df[\"RegionName\"]==\"United Kingdom\" )& (combined_df[\"Time\"]==2019)]\n",
        "slovakia2010_data=combined_df.loc[(combined_df[\"RegionName\"]==\"Slovakia\")&(combined_df[\"Time\"]==2011)]\n",
        "\n",
        "#then change years\n",
        "uk2019_data.replace({2019:2020},inplace=True)\n",
        "slovakia2010_data.replace({2011:2010},inplace=True)\n",
        "\n",
        "#and combine them with the main dataframe\n",
        "timefiltered_df2=pd.concat([timefiltered_df,uk2019_data,slovakia2010_data],axis=0,ignore_index=True)\n",
        "\n",
        "#lets have a look if we managed to successfully add all\n",
        "timefiltered_df2.loc[timefiltered_df2[\"RegionName\"]==\"United Kingdom\"]"
      ],
      "metadata": {
        "colab": {
          "base_uri": "https://localhost:8080/",
          "height": 748
        },
        "id": "90i-jhgnQD9W",
        "outputId": "0ea2204f-c334-4099-a632-d0a12e4d3152"
      },
      "execution_count": null,
      "outputs": [
        {
          "output_type": "stream",
          "name": "stderr",
          "text": [
            "/usr/local/lib/python3.7/dist-packages/pandas/core/frame.py:4389: SettingWithCopyWarning: \n",
            "A value is trying to be set on a copy of a slice from a DataFrame\n",
            "\n",
            "See the caveats in the documentation: https://pandas.pydata.org/pandas-docs/stable/user_guide/indexing.html#returning-a-view-versus-a-copy\n",
            "  method=method,\n"
          ]
        },
        {
          "output_type": "execute_result",
          "data": {
            "text/html": [
              "\n",
              "  <div id=\"df-6a48f75e-aa4d-4519-944f-eb26274191bd\">\n",
              "    <div class=\"colab-df-container\">\n",
              "      <div>\n",
              "<style scoped>\n",
              "    .dataframe tbody tr th:only-of-type {\n",
              "        vertical-align: middle;\n",
              "    }\n",
              "\n",
              "    .dataframe tbody tr th {\n",
              "        vertical-align: top;\n",
              "    }\n",
              "\n",
              "    .dataframe thead th {\n",
              "        text-align: right;\n",
              "    }\n",
              "</style>\n",
              "<table border=\"1\" class=\"dataframe\">\n",
              "  <thead>\n",
              "    <tr style=\"text-align: right;\">\n",
              "      <th></th>\n",
              "      <th>Population</th>\n",
              "      <th>RegionName</th>\n",
              "      <th>Time</th>\n",
              "      <th>Indicator</th>\n",
              "      <th>NumValue</th>\n",
              "    </tr>\n",
              "  </thead>\n",
              "  <tbody>\n",
              "    <tr>\n",
              "      <th>28</th>\n",
              "      <td>Klebsiella pneumoniae|Third-generation cephalo...</td>\n",
              "      <td>United Kingdom</td>\n",
              "      <td>2010</td>\n",
              "      <td>I - 'susceptible, increased exposure' isolates</td>\n",
              "      <td>10.000000000</td>\n",
              "    </tr>\n",
              "    <tr>\n",
              "      <th>58</th>\n",
              "      <td>Klebsiella pneumoniae|Third-generation cephalo...</td>\n",
              "      <td>United Kingdom</td>\n",
              "      <td>2011</td>\n",
              "      <td>I - 'susceptible, increased exposure' isolates</td>\n",
              "      <td>10.000000000</td>\n",
              "    </tr>\n",
              "    <tr>\n",
              "      <th>88</th>\n",
              "      <td>Klebsiella pneumoniae|Third-generation cephalo...</td>\n",
              "      <td>United Kingdom</td>\n",
              "      <td>2012</td>\n",
              "      <td>I - 'susceptible, increased exposure' isolates</td>\n",
              "      <td>8.000000000</td>\n",
              "    </tr>\n",
              "    <tr>\n",
              "      <th>118</th>\n",
              "      <td>Klebsiella pneumoniae|Third-generation cephalo...</td>\n",
              "      <td>United Kingdom</td>\n",
              "      <td>2013</td>\n",
              "      <td>I - 'susceptible, increased exposure' isolates</td>\n",
              "      <td>6.000000000</td>\n",
              "    </tr>\n",
              "    <tr>\n",
              "      <th>148</th>\n",
              "      <td>Klebsiella pneumoniae|Third-generation cephalo...</td>\n",
              "      <td>United Kingdom</td>\n",
              "      <td>2014</td>\n",
              "      <td>I - 'susceptible, increased exposure' isolates</td>\n",
              "      <td>9.000000000</td>\n",
              "    </tr>\n",
              "    <tr>\n",
              "      <th>...</th>\n",
              "      <td>...</td>\n",
              "      <td>...</td>\n",
              "      <td>...</td>\n",
              "      <td>...</td>\n",
              "      <td>...</td>\n",
              "    </tr>\n",
              "    <tr>\n",
              "      <th>7562</th>\n",
              "      <td>Klebsiella pneumoniae|Aminoglycosides</td>\n",
              "      <td>United Kingdom</td>\n",
              "      <td>2020</td>\n",
              "      <td>S - susceptible isolates</td>\n",
              "      <td>4949.000000000</td>\n",
              "    </tr>\n",
              "    <tr>\n",
              "      <th>7563</th>\n",
              "      <td>Klebsiella pneumoniae|Aminoglycosides</td>\n",
              "      <td>United Kingdom</td>\n",
              "      <td>2020</td>\n",
              "      <td>Total tested isolates</td>\n",
              "      <td>5406.000000000</td>\n",
              "    </tr>\n",
              "    <tr>\n",
              "      <th>7564</th>\n",
              "      <td>Klebsiella pneumoniae|Combined resistance (thi...</td>\n",
              "      <td>United Kingdom</td>\n",
              "      <td>2020</td>\n",
              "      <td>R - resistant isolates</td>\n",
              "      <td>249.000000000</td>\n",
              "    </tr>\n",
              "    <tr>\n",
              "      <th>7565</th>\n",
              "      <td>Klebsiella pneumoniae|Combined resistance (thi...</td>\n",
              "      <td>United Kingdom</td>\n",
              "      <td>2020</td>\n",
              "      <td>R - resistant isolates, percentage</td>\n",
              "      <td>5.357142850</td>\n",
              "    </tr>\n",
              "    <tr>\n",
              "      <th>7566</th>\n",
              "      <td>Klebsiella pneumoniae|Combined resistance (thi...</td>\n",
              "      <td>United Kingdom</td>\n",
              "      <td>2020</td>\n",
              "      <td>Total tested isolates</td>\n",
              "      <td>4648.000000000</td>\n",
              "    </tr>\n",
              "  </tbody>\n",
              "</table>\n",
              "<p>253 rows × 5 columns</p>\n",
              "</div>\n",
              "      <button class=\"colab-df-convert\" onclick=\"convertToInteractive('df-6a48f75e-aa4d-4519-944f-eb26274191bd')\"\n",
              "              title=\"Convert this dataframe to an interactive table.\"\n",
              "              style=\"display:none;\">\n",
              "        \n",
              "  <svg xmlns=\"http://www.w3.org/2000/svg\" height=\"24px\"viewBox=\"0 0 24 24\"\n",
              "       width=\"24px\">\n",
              "    <path d=\"M0 0h24v24H0V0z\" fill=\"none\"/>\n",
              "    <path d=\"M18.56 5.44l.94 2.06.94-2.06 2.06-.94-2.06-.94-.94-2.06-.94 2.06-2.06.94zm-11 1L8.5 8.5l.94-2.06 2.06-.94-2.06-.94L8.5 2.5l-.94 2.06-2.06.94zm10 10l.94 2.06.94-2.06 2.06-.94-2.06-.94-.94-2.06-.94 2.06-2.06.94z\"/><path d=\"M17.41 7.96l-1.37-1.37c-.4-.4-.92-.59-1.43-.59-.52 0-1.04.2-1.43.59L10.3 9.45l-7.72 7.72c-.78.78-.78 2.05 0 2.83L4 21.41c.39.39.9.59 1.41.59.51 0 1.02-.2 1.41-.59l7.78-7.78 2.81-2.81c.8-.78.8-2.07 0-2.86zM5.41 20L4 18.59l7.72-7.72 1.47 1.35L5.41 20z\"/>\n",
              "  </svg>\n",
              "      </button>\n",
              "      \n",
              "  <style>\n",
              "    .colab-df-container {\n",
              "      display:flex;\n",
              "      flex-wrap:wrap;\n",
              "      gap: 12px;\n",
              "    }\n",
              "\n",
              "    .colab-df-convert {\n",
              "      background-color: #E8F0FE;\n",
              "      border: none;\n",
              "      border-radius: 50%;\n",
              "      cursor: pointer;\n",
              "      display: none;\n",
              "      fill: #1967D2;\n",
              "      height: 32px;\n",
              "      padding: 0 0 0 0;\n",
              "      width: 32px;\n",
              "    }\n",
              "\n",
              "    .colab-df-convert:hover {\n",
              "      background-color: #E2EBFA;\n",
              "      box-shadow: 0px 1px 2px rgba(60, 64, 67, 0.3), 0px 1px 3px 1px rgba(60, 64, 67, 0.15);\n",
              "      fill: #174EA6;\n",
              "    }\n",
              "\n",
              "    [theme=dark] .colab-df-convert {\n",
              "      background-color: #3B4455;\n",
              "      fill: #D2E3FC;\n",
              "    }\n",
              "\n",
              "    [theme=dark] .colab-df-convert:hover {\n",
              "      background-color: #434B5C;\n",
              "      box-shadow: 0px 1px 3px 1px rgba(0, 0, 0, 0.15);\n",
              "      filter: drop-shadow(0px 1px 2px rgba(0, 0, 0, 0.3));\n",
              "      fill: #FFFFFF;\n",
              "    }\n",
              "  </style>\n",
              "\n",
              "      <script>\n",
              "        const buttonEl =\n",
              "          document.querySelector('#df-6a48f75e-aa4d-4519-944f-eb26274191bd button.colab-df-convert');\n",
              "        buttonEl.style.display =\n",
              "          google.colab.kernel.accessAllowed ? 'block' : 'none';\n",
              "\n",
              "        async function convertToInteractive(key) {\n",
              "          const element = document.querySelector('#df-6a48f75e-aa4d-4519-944f-eb26274191bd');\n",
              "          const dataTable =\n",
              "            await google.colab.kernel.invokeFunction('convertToInteractive',\n",
              "                                                     [key], {});\n",
              "          if (!dataTable) return;\n",
              "\n",
              "          const docLinkHtml = 'Like what you see? Visit the ' +\n",
              "            '<a target=\"_blank\" href=https://colab.research.google.com/notebooks/data_table.ipynb>data table notebook</a>'\n",
              "            + ' to learn more about interactive tables.';\n",
              "          element.innerHTML = '';\n",
              "          dataTable['output_type'] = 'display_data';\n",
              "          await google.colab.output.renderOutput(dataTable, element);\n",
              "          const docLink = document.createElement('div');\n",
              "          docLink.innerHTML = docLinkHtml;\n",
              "          element.appendChild(docLink);\n",
              "        }\n",
              "      </script>\n",
              "    </div>\n",
              "  </div>\n",
              "  "
            ],
            "text/plain": [
              "                                             Population  ...        NumValue\n",
              "28    Klebsiella pneumoniae|Third-generation cephalo...  ...    10.000000000\n",
              "58    Klebsiella pneumoniae|Third-generation cephalo...  ...    10.000000000\n",
              "88    Klebsiella pneumoniae|Third-generation cephalo...  ...     8.000000000\n",
              "118   Klebsiella pneumoniae|Third-generation cephalo...  ...     6.000000000\n",
              "148   Klebsiella pneumoniae|Third-generation cephalo...  ...     9.000000000\n",
              "...                                                 ...  ...             ...\n",
              "7562              Klebsiella pneumoniae|Aminoglycosides  ...  4949.000000000\n",
              "7563              Klebsiella pneumoniae|Aminoglycosides  ...  5406.000000000\n",
              "7564  Klebsiella pneumoniae|Combined resistance (thi...  ...   249.000000000\n",
              "7565  Klebsiella pneumoniae|Combined resistance (thi...  ...     5.357142850\n",
              "7566  Klebsiella pneumoniae|Combined resistance (thi...  ...  4648.000000000\n",
              "\n",
              "[253 rows x 5 columns]"
            ]
          },
          "metadata": {},
          "execution_count": 43
        }
      ]
    },
    {
      "cell_type": "markdown",
      "source": [
        "We can also remove Klebsiella pneumonia from population column to have cleaner looking charts in further steps"
      ],
      "metadata": {
        "id": "dKhZPuSPahGh"
      }
    },
    {
      "cell_type": "code",
      "source": [
        "#.replace() function is character-sensitive. Exact wording of the column value is required\n",
        "\n",
        "timefiltered_df2.Population.unique()"
      ],
      "metadata": {
        "colab": {
          "base_uri": "https://localhost:8080/"
        },
        "id": "T71GmUW6YbnN",
        "outputId": "c60d9837-bf0d-4c9b-dc64-6b1336d7559f"
      },
      "execution_count": null,
      "outputs": [
        {
          "output_type": "execute_result",
          "data": {
            "text/plain": [
              "array(['Klebsiella pneumoniae|Third-generation cephalosporins',\n",
              "       'Klebsiella pneumoniae|Carbapenems',\n",
              "       'Klebsiella pneumoniae|Fluoroquinolones',\n",
              "       'Klebsiella pneumoniae|Aminoglycosides',\n",
              "       'Klebsiella pneumoniae|Combined resistance (third-generation cephalosporin, fluoroquinolones and aminoglycoside)'],\n",
              "      dtype=object)"
            ]
          },
          "metadata": {},
          "execution_count": 44
        }
      ]
    },
    {
      "cell_type": "code",
      "source": [
        "timefiltered_df2.replace({\"Klebsiella pneumoniae|Third-generation cephalosporins\": \"Third-gen cephalosporins\",\"Klebsiella pneumoniae|Carbapenems\":\"Carbapenems\",\n",
        "                          \"Klebsiella pneumoniae|Fluoroquinolones\":\"Fluoroquinolones\",\"Klebsiella pneumoniae|Aminoglycosides\":\"Aminoglycosides\",\n",
        "                          \"Klebsiella pneumoniae|Combined resistance (third-generation cephalosporin, fluoroquinolones and aminoglycoside)\":\"Combined Resistance (third-gen + fluoro + amino)\"},\n",
        "                         inplace=True)"
      ],
      "metadata": {
        "id": "YEX3DHSRbBW5"
      },
      "execution_count": null,
      "outputs": []
    },
    {
      "cell_type": "code",
      "source": [
        "timefiltered_df2.Population.unique()"
      ],
      "metadata": {
        "id": "7EKoczBecGt7",
        "colab": {
          "base_uri": "https://localhost:8080/"
        },
        "outputId": "aeff2168-96ee-462f-eb1a-6e373ea31872"
      },
      "execution_count": null,
      "outputs": [
        {
          "output_type": "execute_result",
          "data": {
            "text/plain": [
              "array(['Third-gen cephalosporins', 'Carbapenems', 'Fluoroquinolones',\n",
              "       'Aminoglycosides',\n",
              "       'Combined Resistance (third-gen + fluoro + amino)'], dtype=object)"
            ]
          },
          "metadata": {},
          "execution_count": 46
        }
      ]
    },
    {
      "cell_type": "markdown",
      "source": [
        "Let's save the data frame as .csv to use it in exploratory data analysis steps"
      ],
      "metadata": {
        "id": "Vo1uGfaWAL3u"
      }
    },
    {
      "cell_type": "code",
      "source": [
        "timefiltered_df2.to_csv(\"EU_Antibiotic_Resistance_Data_combinedcleaned.csv\", index =False)"
      ],
      "metadata": {
        "id": "nF-JuFAXAVbB"
      },
      "execution_count": null,
      "outputs": []
    }
  ]
}